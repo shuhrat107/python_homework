{
 "cells": [
  {
   "cell_type": "code",
   "execution_count": 3,
   "metadata": {},
   "outputs": [],
   "source": [
    "def uncommon_elements(list1, list2):\n",
    "\n",
    "    set1 = set(list1)\n",
    "    set2 = set(list2)\n",
    "    \n",
    "\n",
    "    uncommon_in_list1 = [x for x in list1 if x not in set2]\n",
    "    uncommon_in_list2 = [x for x in list2 if x not in set1]\n",
    "\n",
    "    return uncommon_in_list1 + uncommon_in_list2"
   ]
  },
  {
   "cell_type": "code",
   "execution_count": 2,
   "metadata": {},
   "outputs": [],
   "source": [
    "def insert_underscore(txt):\n",
    "    vowels = \"aeiouAEIOU\"\n",
    "    result = []\n",
    "    count = 0  \n",
    "\n",
    "    for i, char in enumerate(txt):\n",
    "        result.append(char)\n",
    "        count += 1\n",
    "\n",
    "        if count == 3 and i != len(txt) - 1:  \n",
    "            if char in vowels or (i > 0 and result[-2] == '_'):\n",
    "                continue  \n",
    "            else:\n",
    "                result.append('_')\n",
    "                count = 0  \n",
    "\n",
    "    return ''.join(result)"
   ]
  }
 ],
 "metadata": {
  "kernelspec": {
   "display_name": "Python 3",
   "language": "python",
   "name": "python3"
  },
  "language_info": {
   "codemirror_mode": {
    "name": "ipython",
    "version": 3
   },
   "file_extension": ".py",
   "mimetype": "text/x-python",
   "name": "python",
   "nbconvert_exporter": "python",
   "pygments_lexer": "ipython3",
   "version": "3.13.1"
  }
 },
 "nbformat": 4,
 "nbformat_minor": 2
}
