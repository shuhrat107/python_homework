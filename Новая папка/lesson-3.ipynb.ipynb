{
 "cells": [
  {
   "cell_type": "code",
   "execution_count": 1,
   "metadata": {},
   "outputs": [
    {
     "name": "stdout",
     "output_type": "stream",
     "text": [
      "second\n"
     ]
    }
   ],
   "source": [
    "cardinal_numbers = (\"first\", \"second\", \"third\")\n",
    "print(cardinal_numbers[1])  \n"
   ]
  },
  {
   "cell_type": "code",
   "execution_count": 2,
   "metadata": {},
   "outputs": [
    {
     "name": "stdout",
     "output_type": "stream",
     "text": [
      "first\n",
      "second\n",
      "third\n"
     ]
    }
   ],
   "source": [
    "position1, position2, position3 = cardinal_numbers\n",
    "print(position1)\n",
    "print(position2)\n",
    "print(position3)"
   ]
  },
  {
   "cell_type": "code",
   "execution_count": 4,
   "metadata": {},
   "outputs": [
    {
     "name": "stdout",
     "output_type": "stream",
     "text": [
      "False\n"
     ]
    }
   ],
   "source": [
    "my_name = tuple(\"Shuhrat\")  \n",
    "print(\"x\" in my_name)  "
   ]
  },
  {
   "cell_type": "code",
   "execution_count": 5,
   "metadata": {},
   "outputs": [
    {
     "name": "stdout",
     "output_type": "stream",
     "text": [
      "('h', 'u', 'h', 'r', 'a', 't')\n"
     ]
    }
   ],
   "source": [
    "new_tuple = my_name[1:]\n",
    "print(new_tuple)"
   ]
  },
  {
   "cell_type": "code",
   "execution_count": null,
   "metadata": {},
   "outputs": [],
   "source": [
    "#HOMEWORK 2\n",
    "food=[\"rice\",\"beans\"]\n",
    "food\n",
    "food.append(\"brocolli\")\n",
    "food.extend(['pizza','bread'])\n",
    "\n",
    "print(food[:2])\n",
    "print(food[-1])\n",
    "breakfast = \"eggs, fruit, orange juice\".split(\", \")\n",
    "print(len(breakfast))\n",
    "lengths = [len(item) for item in breakfast]  \n",
    "print(lengths)\n"
   ]
  },
  {
   "cell_type": "code",
   "execution_count": null,
   "metadata": {},
   "outputs": [],
   "source": [
    "##1\n",
    "num= ['1','2','3']\n",
    "smallest=min(num)\n",
    "print(smallest)\n",
    "##2\n",
    "colors=['Red', 'Green', 'White', 'Black', 'Pink', 'Yellow']\n",
    "colors.pop(5)\n",
    "colors.pop(4)\n",
    "colors.pop(0)\n",
    "print(colors)\n",
    "##5 \n",
    "colors.append(num)\n",
    "print(colors)\n"
   ]
  },
  {
   "cell_type": "code",
   "execution_count": null,
   "metadata": {},
   "outputs": [],
   "source": [
    "#1\n",
    "length= '123456789'\n",
    "print(len(length))\n",
    "#2\n",
    "string= '123456'\n",
    "print(string[:2])\n",
    "print(string[-2:])\n",
    "#8\n",
    "exp= 'hELLo WORld'\n",
    "print(exp.swapcase())\n",
    "#10\n",
    "exp[:3]\n",
    "#11\n",
    "print(string[::-1])\n",
    "#12\n",
    "exp.startswith('he')\n"
   ]
  }
 ],
 "metadata": {
  "kernelspec": {
   "display_name": "Python 3",
   "language": "python",
   "name": "python3"
  },
  "language_info": {
   "codemirror_mode": {
    "name": "ipython",
    "version": 3
   },
   "file_extension": ".py",
   "mimetype": "text/x-python",
   "name": "python",
   "nbconvert_exporter": "python",
   "pygments_lexer": "ipython3",
   "version": "3.13.1"
  }
 },
 "nbformat": 4,
 "nbformat_minor": 2
}
